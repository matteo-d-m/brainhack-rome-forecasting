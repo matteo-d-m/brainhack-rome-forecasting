{
 "cells": [
  {
   "cell_type": "markdown",
   "metadata": {},
   "source": [
    "# **I Know What You Will Do: Forecasting Motor Behaviour from EEG Time Series**\n",
    "\n",
    "**[Brainhack Rome 2025](https://brainhackrome.github.io/) - Project #3** \n",
    "\n",
    "[![Open In Colab](https://colab.research.google.com/assets/colab-badge.svg)](https://colab.research.google.com/github/matteo-d-m/brainhack-rome-forecasting/blob/main/eeg-forecasting-notebook.ipynb)"
   ]
  },
  {
   "cell_type": "code",
   "execution_count": 21,
   "metadata": {},
   "outputs": [],
   "source": [
    "colab = False\n",
    "\n",
    "from pathlib import Path\n",
    "\n",
    "import numpy as np\n",
    "import matplotlib.pyplot as plt\n",
    "\n",
    "if colab:\n",
    "    !pip install mne \n",
    "import mne\n",
    "\n",
    "import torch\n",
    "from torch.utils.data import Dataset, random_split\n",
    "\n",
    "if colab:\n",
    "    from google.colab import drive"
   ]
  },
  {
   "cell_type": "code",
   "execution_count": 23,
   "metadata": {},
   "outputs": [
    {
     "name": "stdout",
     "output_type": "stream",
     "text": [
      "File 1 of 1 loaded successfully!\n"
     ]
    }
   ],
   "source": [
    "if colab: \n",
    "    data_dir = Path(\"/content/drive/MyDrive/Brainhack/\")\n",
    "else:\n",
    "    data_dir = Path(\"insert your local directory\")\n",
    "    \n",
    "all_npy_files = list(data_dir.rglob(\"*.npy\"))\n",
    "for file_number, file in enumerate(all_npy_files):\n",
    "    file = np.load(file)\n",
    "    print(f\"File {file_number+1} of {len(all_npy_files)} loaded successfully!\")"
   ]
  }
 ],
 "metadata": {
  "kernelspec": {
   "display_name": "eeg-forecasting",
   "language": "python",
   "name": "python3"
  },
  "language_info": {
   "codemirror_mode": {
    "name": "ipython",
    "version": 3
   },
   "file_extension": ".py",
   "mimetype": "text/x-python",
   "name": "python",
   "nbconvert_exporter": "python",
   "pygments_lexer": "ipython3",
   "version": "3.13.2"
  }
 },
 "nbformat": 4,
 "nbformat_minor": 2
}

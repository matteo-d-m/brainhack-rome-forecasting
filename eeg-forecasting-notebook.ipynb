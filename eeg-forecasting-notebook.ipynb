{
 "cells": [
  {
   "cell_type": "markdown",
   "metadata": {},
   "source": [
    "# **I Know What You Will Do: Forecasting Motor Behaviour from EEG Time Series**\n",
    "\n",
    "**[Brainhack Rome 2025](https://brainhackrome.github.io/) - Project #3** \n",
    "\n",
    "[![Open In Colab](https://colab.research.google.com/assets/colab-badge.svg)](https://colab.research.google.com/github/matteo-d-m/brainhack-rome-forecasting/blob/main/eeg-forecasting-notebook.ipynb)"
   ]
  },
  {
   "cell_type": "code",
   "execution_count": null,
   "metadata": {},
   "outputs": [],
   "source": [
    "colab = False\n",
    "\n",
    "from pathlib import Path\n",
    "\n",
    "import numpy as np\n",
    "import matplotlib.pyplot as plt\n",
    "\n",
    "if colab:\n",
    "    !pip install mne \n",
    "import mne\n",
    "\n",
    "import torch\n",
    "from torch.utils.data import Dataset, random_split\n",
    "\n",
    "if colab:\n",
    "    from google.colab import drive"
   ]
  },
  {
   "cell_type": "markdown",
   "metadata": {},
   "source": [
    "# Load data\n",
    "\n",
    "The data are stored as `.npy` files, so we read them into `NumPy` arrays"
   ]
  },
  {
   "cell_type": "code",
   "execution_count": null,
   "metadata": {},
   "outputs": [],
   "source": [
    "if colab: \n",
    "    data_dir = Path(\"/content/drive/MyDrive/Brainhack/\")\n",
    "else:\n",
    "    data_dir = Path(\"/home/matteo/Documents/phd/year3/brainhack-rome-data/brainhack_dataset/P1/\") # insert your local directory\n",
    "    \n",
    "all_npy_files = list(data_dir.rglob(\"*.npy\"))\n",
    "all_data_samples = [None]*len(all_npy_files)\n",
    "for file_number, file in enumerate(all_npy_files):\n",
    "    file = np.load(file)\n",
    "    all_data_samples[file_number] = file\n",
    "    print(f\"File {file_number+1} of {len(all_npy_files)} loaded successfully!\")"
   ]
  },
  {
   "cell_type": "markdown",
   "metadata": {},
   "source": [
    "## Check that all data samples have the expected shape"
   ]
  },
  {
   "cell_type": "code",
   "execution_count": null,
   "metadata": {},
   "outputs": [],
   "source": [
    "expected_shape = # insert expected shape \n",
    "for sample_number, sample in enumerate(all_data_samples):\n",
    "    if sample.shape != expected_shape:\n",
    "        print(f\"Sample {sample_number} has shape {sample.shape} instead of {expected_shape}\")"
   ]
  },
  {
   "cell_type": "markdown",
   "metadata": {},
   "source": [
    "## Create PyTorch dataset and check that everything went well"
   ]
  },
  {
   "cell_type": "code",
   "execution_count": null,
   "metadata": {},
   "outputs": [],
   "source": [
    "class DatasetFromList(Dataset):\n",
    "    \"\"\"Class to create a PyTorch Dataset from a list of data arrays\"\"\"\n",
    "    \n",
    "\n",
    "    def __init__(self, data, normalise=False):\n",
    "        \"\"\"Class constructor (i.e., it actually creates the Dataset object)\n",
    "        \n",
    "        Parameters:\n",
    "        data -- a list of data arrays (type: list[np.array])\n",
    "        normalise -- whether to normalise the samples (type: bool) (default: False)\n",
    "        \"\"\"\n",
    "\n",
    "        self.data = data\n",
    "        self.normalise = normalise\n",
    "\n",
    "    def __len__(self):\n",
    "        \"\"\"Returns the length of the created dataset.\n",
    "\n",
    "        Usage:\n",
    "        len(dataset_name)\n",
    "        \"\"\"\n",
    "\n",
    "        return len(self.data)\n",
    "\n",
    "    def __getitem__(self, index):\n",
    "        \"\"\"Returns the data sample located at a given index\n",
    "        \n",
    "        Parameters:\n",
    "        index -- the index of interest (type: int)\n",
    "        \n",
    "        Returns: \n",
    "        sample -- the data sample located at 'index' (type: torch.tensor)\n",
    "        \n",
    "        Usage:\n",
    "        dataset_name[index]\n",
    "        \"\"\"\n",
    "\n",
    "        sample = torch.as_tensor(self.data[index])\n",
    "        sample = sample.unsqueeze(0)\n",
    "        if self.normalise:\n",
    "            sample = torch.nn.functional.normalize(sample)\n",
    "        return sample"
   ]
  },
  {
   "cell_type": "code",
   "execution_count": null,
   "metadata": {},
   "outputs": [],
   "source": [
    "dataset = DatasetFromList(data=all_data_samples,\n",
    "                          normalise=False)\n",
    "\n",
    "print(f\"The PyTorch dataset contains {len(dataset)} samples, {'as expected' if len(dataset) == len(all_data_samples) else 'unexpectedly'}\")"
   ]
  },
  {
   "cell_type": "code",
   "execution_count": null,
   "metadata": {},
   "outputs": [],
   "source": [
    "expected_shape = # insert expected shape \n",
    "for sample_number, sample in enumerate(dataset):\n",
    "    if sample.shape != expected_shape:\n",
    "        print(f\"Sample {sample_number} has shape {sample.shape} instead of {expected_shape}\")"
   ]
  }
 ],
 "metadata": {
  "kernelspec": {
   "display_name": "eeg-forecasting",
   "language": "python",
   "name": "python3"
  },
  "language_info": {
   "codemirror_mode": {
    "name": "ipython",
    "version": 3
   },
   "file_extension": ".py",
   "mimetype": "text/x-python",
   "name": "python",
   "nbconvert_exporter": "python",
   "pygments_lexer": "ipython3",
   "version": "3.13.2"
  }
 },
 "nbformat": 4,
 "nbformat_minor": 2
}
